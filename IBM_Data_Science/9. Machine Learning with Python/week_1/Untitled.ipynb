{
 "cells": [
  {
   "cell_type": "markdown",
   "id": "3c83180f-dcb7-4ae6-aa6c-167cc9c7711e",
   "metadata": {},
   "source": [
    "## Machine Learning with Python \n",
    "\n",
    "### What is Machine learning and how is it different to AI?\n",
    "Machine Learning is the branch of AI that covers the statistical part of artificial intelligence. It teaches the computer to solve problems by looking at hundreds or thousands of examples, learning from them, and then using that experience to solve the same problem in new situations.\n",
    "\n",
    "### Deep Learning \n",
    "Deep Learning is a very special field of Machine Learning where computers can actually learn and make intelligent decisions on their own. Deep learning involves a deeper level of automation in comparison with most machine learning algorithms. \n",
    "\n",
    "- Discussing use cases\n",
    "- - Stock Market, Banking, Loanings - Economy\n",
    "  - Healthcare, Hostpitals, Medicare, Drugs - Life\n",
    "  - Environment - Surroundings\n",
    "  - Entertainments "
   ]
  },
  {
   "cell_type": "markdown",
   "id": "7faefc95-f0fd-460f-adf9-a77ddeeef1bd",
   "metadata": {},
   "source": [
    "### Introductions \n",
    "Ability for computers to learn with classifications and iterations just how a human would. \n",
    "\n",
    "### machine learning techniques \n",
    "1. Regression/Estimation\n",
    "   - Predicting continous values \n",
    "2. Classification\n",
    "   - Predicting the item class/category \n",
    "3. Clustering\n",
    "   - Finding structure of data : Summarization\n",
    "\n",
    "![](cluster.png)\n",
    "\n",
    "\n",
    "4. Assosiations\n",
    "   - Assosiaing frequent co- occuring events\n",
    "  \n",
    "5. Anamaly Detection - Discovering Abnormal and Unusual cases \n",
    "6. Sequence mining - Predicting the next events. (Clicks in a website)\n",
    "7. Dimension Reduction - Reduce the size of data on hand \n",
    "8. Recommendation systems - Ones discussed above "
   ]
  },
  {
   "cell_type": "markdown",
   "id": "e2c7dd3b-cda6-4e56-9240-7efb768f4128",
   "metadata": {},
   "source": [
    "### Python for Machine learning \n",
    "1. Numpy - used to deal with Ndim arrays.\n",
    "2. Scipy - Domain specific for scientific and statistical parts\n",
    "3. Matplot Lib\n",
    "4. Pandas - High level Python library\n",
    "##### 5. Scikit Learn - Used for ML and this course"
   ]
  },
  {
   "cell_type": "markdown",
   "id": "962c7760-9da7-453e-824e-5121160c4273",
   "metadata": {},
   "source": [
    "### Scikit Learn\n",
    "\n",
    "#### Functions \n",
    "- It helps us with data Preprocessing\n",
    "- Division of data in test and train data sets\n",
    "- Fit teh modelin the classification\n",
    "- test that model\n",
    "- Gain predictions from tha model \n",
    "\n",
    "![](func.png)\n",
    "\n",
    "![](sci.png)"
   ]
  },
  {
   "cell_type": "markdown",
   "id": "48b3ae78-edf4-40af-8056-afbc6b88d1d6",
   "metadata": {},
   "source": [
    "### Supervised Learning \n",
    "- SOmething that is taught to the system.\n",
    "- We tach the model with a labeled dataset.\n",
    "- Labeled data means that it has already been put into classes.\n",
    "- Most of the data is numerical. What is not should be convereted to a numerical format and indexed acc.\n",
    "\n",
    "Two types of Supervised Learnings \n",
    "1. Classification - Predicting a disting class category/Label\n",
    "   \n",
    "![](cat.png)\n",
    "\n",
    "2. Regression - Predicting a specific continous value(This means that it is dependent on the data on hand)\n",
    "   \n",
    "![](reg.png)"
   ]
  },
  {
   "cell_type": "markdown",
   "id": "a3ae9224-e2e5-4a6a-a132-1d8006f561ea",
   "metadata": {},
   "source": [
    "### Un-Supervised Learning \n",
    "The major need for these algorithms is to deal with unlabeled data.\n",
    "\n",
    "- Model does all the work by itself\n",
    "- Primarily used to negate the human error\n",
    "- Much more complex algorithms\n",
    "- - Dimension reduction\n",
    "  - Density Estimation\n",
    "  - Market Basket Analysis\n",
    "  - Clustering - Discovering structure. putting things into classes which go un noticed."
   ]
  },
  {
   "cell_type": "code",
   "execution_count": null,
   "id": "fba53693-9897-45d3-920a-c6d813e61af9",
   "metadata": {},
   "outputs": [],
   "source": []
  }
 ],
 "metadata": {
  "kernelspec": {
   "display_name": "Python 3 (ipykernel)",
   "language": "python",
   "name": "python3"
  },
  "language_info": {
   "codemirror_mode": {
    "name": "ipython",
    "version": 3
   },
   "file_extension": ".py",
   "mimetype": "text/x-python",
   "name": "python",
   "nbconvert_exporter": "python",
   "pygments_lexer": "ipython3",
   "version": "3.11.5"
  }
 },
 "nbformat": 4,
 "nbformat_minor": 5
}
