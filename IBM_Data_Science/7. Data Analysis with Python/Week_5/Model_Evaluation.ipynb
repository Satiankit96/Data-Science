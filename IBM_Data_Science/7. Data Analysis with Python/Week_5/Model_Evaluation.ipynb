{
 "cells": [
  {
   "cell_type": "markdown",
   "id": "e50eaa79",
   "metadata": {},
   "source": [
    "### Model Evaluation\n",
    "This tells us about the performance of a model in the real world."
   ]
  },
  {
   "cell_type": "markdown",
   "id": "a67a19cc",
   "metadata": {},
   "source": [
    "### In Sample Evaluation \n",
    "- How well does the model fit the data that was given to us.\n",
    "- However this gives us no Idea if this model could be used to predict new data\n",
    "\n",
    "### Divide the given data into two parts\n",
    "1. In Sample Data - Data used to predict the model \n",
    "2. Out sample data - Data used to test the model. (Since we already know the expected value)\n",
    "\n",
    "#### How to separate Data \n",
    "- Larger Data is used to Training (~70%)\n",
    "- once the Testing is completed, we should again use all the data to train our model.\n",
    "\n",
    "Using Sklearn \n",
    "\n",
    "from sklearn.model_selection import train_test_split\n",
    "\n",
    "###### X_train, X_test, y_train, y_test = train_test_split(X_data, y_data, test_size=0.2, random_state=42)\n",
    "\n",
    "X_data               - Predictors \n",
    "Y_data               - Target value -{The output are an array }\n",
    "X_train,  y_train -  - These are yje subsets used to train the data \n",
    "X_test, y_test       - These are the subsets used to test the model "
   ]
  },
  {
   "cell_type": "markdown",
   "id": "c2ae94c8",
   "metadata": {},
   "source": [
    "### Generalisation Performance \n",
    "\n",
    "- More the data \n",
    "\n",
    "- Generalization error is a measure of how well our data does a predicting previously unseen data. \n",
    "- The error we obtain using our testing data is an approximation of this error. "
   ]
  },
  {
   "cell_type": "markdown",
   "id": "610ee8f2",
   "metadata": {},
   "source": [
    "### Cross Validation \n",
    "- Model is used in k equal folds (k = 4)\n",
    "- 3 folds for training and one part for testing.\n",
    "- This is iterated until every fold is used for testing once.\n",
    "\n",
    "The average is calculate to give a much more robust Idea of the model.\n",
    "\n",
    "### How to ?\n",
    "\n",
    "from sklearn.model_selection import cross_val_score\n",
    "from sklearn.linear_model import LinearRegression\n",
    "\n",
    "X, y = your_data_preparation_function()\n",
    "\n",
    "model = LinearRegression()\n",
    "\n",
    "# 1. cross_val_score\n",
    "###### scores = cross_val_score(model, X, y, cv=5)  # cv=5 means 5-fold cross-validation\n",
    "\n",
    "print(\"Cross-validated scores:\", scores)\n",
    "\n",
    "1. Model - The model that we are using \n",
    "2. x and y _data same as usual \n",
    "3. cv = number of folds \n",
    "\n",
    "The function returns the score for each.\n",
    "\n",
    "###### np.mean(scores)\n",
    "\n",
    "The above could be used to calculate the mean"
   ]
  },
  {
   "cell_type": "markdown",
   "id": "5e40b061",
   "metadata": {},
   "source": [
    "What if we want to know the actual predicted values supplied by our model before the R^2 values are calculated? To do this, we use the cross_val_predict function. The input parameters are exactly the same as the cross_val_score function, but the output is a prediction.\n",
    "\n",
    "# 2. cross_val_predict\n",
    "from sklearn.model_selection import cross_val_predict\n",
    "\n",
    "from sklearn.linear_model import LinearRegression\n",
    "\n",
    "from sklearn.datasets import make_regression\n",
    "\n",
    "X, y = make_regression(n_samples=100, n_features=1, noise=10, random_state=42)\n",
    "\n",
    "model = LinearRegression()\n",
    "\n",
    "##### predicted_values = cross_val_predict(model, X, y, cv=5)  # cv=5 for 5-fold cross-validation"
   ]
  },
  {
   "cell_type": "code",
   "execution_count": null,
   "id": "3376e71e",
   "metadata": {},
   "outputs": [],
   "source": []
  }
 ],
 "metadata": {
  "kernelspec": {
   "display_name": "Python 3 (ipykernel)",
   "language": "python",
   "name": "python3"
  },
  "language_info": {
   "codemirror_mode": {
    "name": "ipython",
    "version": 3
   },
   "file_extension": ".py",
   "mimetype": "text/x-python",
   "name": "python",
   "nbconvert_exporter": "python",
   "pygments_lexer": "ipython3",
   "version": "3.11.5"
  }
 },
 "nbformat": 4,
 "nbformat_minor": 5
}
