{
 "cells": [
  {
   "cell_type": "markdown",
   "id": "784a07e7",
   "metadata": {},
   "source": [
    "### Underfitting The data \n",
    "We have chosen a lower degree model which is insuffiucient to draw a complex model \n",
    "Basically choosing a lower degree function than what is required "
   ]
  },
  {
   "attachments": {},
   "cell_type": "markdown",
   "id": "f9e60588",
   "metadata": {},
   "source": [
    "### Over Fitting the data \n",
    "\n",
    "The model is of a higher degree than needed.\n",
    "More often than not. It will fit in some noise in the data as well.\n",
    "\n",
    "\n",
    "###### The picture below shows us two things.\n",
    "- Higher the order of the data, less the training error.\n",
    "- But this error will increase if a much higher degree is chosen.\n",
    "\n",
    "- basically find the sweet spot\n",
    "\n",
    "![](Under_Over.png)\n",
    "\n",
    "\n",
    "After we select the best order of the polynomial.\n",
    "We will still have some error.\n",
    "\n",
    "##### y = m(x) + Noise \n",
    "\n",
    "![](noise.png)\n",
    "\n",
    "\n",
    "# Calculating the best order for evaluation \n",
    "\n",
    "#### Value of the R^2 when it is closest to 1 is the best order.\n",
    "\n",
    "In the exaple below 3 is the best order function to calculate the model.\n",
    "\n",
    "![](r_Square.png)\n"
   ]
  },
  {
   "cell_type": "code",
   "execution_count": null,
   "id": "1635074c",
   "metadata": {},
   "outputs": [],
   "source": [
    "## Ridge Regression "
   ]
  }
 ],
 "metadata": {
  "kernelspec": {
   "display_name": "Python 3 (ipykernel)",
   "language": "python",
   "name": "python3"
  },
  "language_info": {
   "codemirror_mode": {
    "name": "ipython",
    "version": 3
   },
   "file_extension": ".py",
   "mimetype": "text/x-python",
   "name": "python",
   "nbconvert_exporter": "python",
   "pygments_lexer": "ipython3",
   "version": "3.11.5"
  }
 },
 "nbformat": 4,
 "nbformat_minor": 5
}
