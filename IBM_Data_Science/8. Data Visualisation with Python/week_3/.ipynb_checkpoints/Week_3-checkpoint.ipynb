{
 "cells": [
  {
   "cell_type": "markdown",
   "id": "566630eb",
   "metadata": {},
   "source": [
    "# Module 3\n",
    "Advanced visualization tools are sophisticated platforms that provide a wide range of advanced features and capabilities. These tools provide an extensive set of options that help create visually appealing and interactive visualizations. In this module, you will learn about waffle charts and word cloud including their application. You will explore Seaborn, a new visualization library in Python, and learn how to create regression plots using it. In addition, you will learn about folium, a data visualization library that visualizes geospatial data.\n",
    "\n",
    "## objective \n",
    "\n",
    "Explore waffle charts and word cloud along with their application\n",
    "\n",
    "Describe Seaborn and explore the process of generating attractive regression plots\n",
    "\n",
    "Describe Folium and explore the process of creating maps\n",
    "\n",
    "Explore the process of superimposing markers on maps using Foilum\n",
    "\n",
    "Describe Choropleth maps with the help of an illustration\n",
    "\n",
    "Explore the process of creating a Choropleth map using Folium\n"
   ]
  },
  {
   "cell_type": "markdown",
   "id": "984b4274",
   "metadata": {},
   "source": [
    "## Waffle Charts \n",
    "\n",
    "- Equal sized squares showing classifications and progress. \n",
    "- Part of the oywaffle category.\n",
    "![](waffle.png)\n",
    "\n",
    "## Word cloud \n",
    "- Depending upon the frequency of a word that appears in a text determines its size in the word cloud. \n",
    "![](word.png)\n"
   ]
  },
  {
   "cell_type": "markdown",
   "id": "53683779",
   "metadata": {},
   "source": [
    "## Seaborn and Regression plots \n",
    "- An extenstion of matplotlib \n",
    "- Multiple plot \n",
    "- Good intercompatibility. \n",
    "- Works well with complex data frames \n",
    "\n",
    "![](seaborn.png)"
   ]
  },
  {
   "cell_type": "markdown",
   "id": "5aa64d98",
   "metadata": {},
   "source": [
    "## Folium \n",
    "- Library for geospatial data "
   ]
  },
  {
   "cell_type": "code",
   "execution_count": 7,
   "id": "94104eaf",
   "metadata": {},
   "outputs": [],
   "source": [
    "import folium"
   ]
  },
  {
   "cell_type": "code",
   "execution_count": 21,
   "id": "040dd5de",
   "metadata": {},
   "outputs": [],
   "source": [
    "# Create a folium map\n",
    "world_map = folium.Map(\n",
    "    location=[56.130, -106.35],\n",
    "    zoom_start=4\n",
    ")\n",
    "\n",
    "# # Add terrain tiles using TileLayer\n",
    "# folium.TileLayer('Stamen Terrain').add_to(world_map)\n",
    "\n",
    "# # Display the map\n",
    "# world_map"
   ]
  },
  {
   "cell_type": "code",
   "execution_count": 23,
   "id": "ae2a51cb",
   "metadata": {},
   "outputs": [],
   "source": [
    "\n",
    "# Markers on a Map \n",
    "\n",
    "canada_map = folium.Map(\n",
    "    location=[56.130, -106.35],\n",
    "    zoom_start=4\n",
    ")\n",
    "# folium.Marker(location = [51.2538, -85.3232], popup='Ontario'.add_to(canada_map))\n"
   ]
  },
  {
   "cell_type": "markdown",
   "id": "16a12438",
   "metadata": {},
   "source": [
    "\n",
    "<img src=\"markers.png\" alt=\"Example Image\" width=\"50%\" height=\"50%\">"
   ]
  },
  {
   "cell_type": "markdown",
   "id": "79e0a971",
   "metadata": {},
   "source": [
    "## Choropleth Maps \n",
    "- Color shadding to show the numbers on a map."
   ]
  },
  {
   "cell_type": "code",
   "execution_count": null,
   "id": "b1bdaf0e",
   "metadata": {},
   "outputs": [],
   "source": []
  }
 ],
 "metadata": {
  "kernelspec": {
   "display_name": "Python 3 (ipykernel)",
   "language": "python",
   "name": "python3"
  },
  "language_info": {
   "codemirror_mode": {
    "name": "ipython",
    "version": 3
   },
   "file_extension": ".py",
   "mimetype": "text/x-python",
   "name": "python",
   "nbconvert_exporter": "python",
   "pygments_lexer": "ipython3",
   "version": "3.11.5"
  }
 },
 "nbformat": 4,
 "nbformat_minor": 5
}
