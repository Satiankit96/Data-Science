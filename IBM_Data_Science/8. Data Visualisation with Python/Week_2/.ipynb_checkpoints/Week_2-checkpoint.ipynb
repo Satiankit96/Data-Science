{
 "cells": [
  {
   "cell_type": "markdown",
   "id": "599e1d0c",
   "metadata": {},
   "source": [
    "# Module 2\n",
    "Visualization tools play a crucial role in data analysis and communication. These are essential for extracting insights and presenting information in a concise manner to both technical and non-technical audiences. In this module, you will create a diverse range of plots using Matplotlib, the data visualization library. Throughout this module, you will learn about area plots, histograms, bar charts, pie charts, box plots, and scatter plots. You will also explore the process of creating these visualization tools using Matplotlib.\n",
    "\n",
    "## objective \n",
    "\n",
    "Explore an area plot with an illustration and create it using Matplotlib\n",
    "\n",
    "Define a histogram with an illustration and create it using Matplotlib\n",
    "\n",
    "Describe a bar chart with an illustration and create it using Matplotlib\n",
    "\n",
    "Discover a pie chart with an illustration and create it using Matplotlib\n",
    "\n",
    "Describe a box plot with an illustration and create it using Matplotlib\n",
    "\n",
    "Discover a scatter plot with an illustration and create it using Matplotlib\n"
   ]
  },
  {
   "cell_type": "code",
   "execution_count": null,
   "id": "7944de52",
   "metadata": {},
   "outputs": [],
   "source": []
  }
 ],
 "metadata": {
  "kernelspec": {
   "display_name": "Python 3 (ipykernel)",
   "language": "python",
   "name": "python3"
  },
  "language_info": {
   "codemirror_mode": {
    "name": "ipython",
    "version": 3
   },
   "file_extension": ".py",
   "mimetype": "text/x-python",
   "name": "python",
   "nbconvert_exporter": "python",
   "pygments_lexer": "ipython3",
   "version": "3.11.5"
  }
 },
 "nbformat": 4,
 "nbformat_minor": 5
}
