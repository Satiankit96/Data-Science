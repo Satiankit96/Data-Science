{
 "cells": [
  {
   "cell_type": "markdown",
   "id": "7efbd85d-00a8-4f63-866c-6ead06775c45",
   "metadata": {},
   "source": [
    "### Regression \n",
    "The process of predicting a continous value.\n",
    "\n",
    "X -> Independent variable(Cause/Features) -  this can be either categorical or continous value.\n",
    "\n",
    "Y -> Dependent variable(Goal/Terget)- Has to be continous\n",
    "\n",
    "#### Types of Regression\n",
    "1. Simple Regression - Only 1 feature. (Dependent Variable)\n",
    "2. Multiple Regression - Multiple Features influencing the target. (Independent variable)\n",
    "\n",
    "Linear Vs Non Linear - Both of the above are subject to this. This is dependent upon the relationship between the two variables.\n",
    "\n",
    "Applications and use cases.\n",
    "- Sales Forecasting\n",
    "- Price estimation\n",
    "- Medicare\n",
    "- Economy"
   ]
  },
  {
   "cell_type": "markdown",
   "id": "487a1012-670e-49be-be58-39658f22a2e0",
   "metadata": {},
   "source": [
    "### Simple Linear Regression \n",
    "The process of predicting a continous value.\n",
    "- Does not require parameter tuning\n",
    "- Learning is fast \n",
    "\n",
    "X -> Independent variable(Cause/Features) -  this can be either categorical or continous value.\n",
    "\n",
    "Y -> Dependent variable(Goal/Terget)- Has to be continous\n",
    "\n",
    "\n",
    "Linear Equation \n",
    "y = mx + Noise\n",
    "\n",
    "y -> Predicted value\n",
    "m -> Slope \n",
    "Noise -> Intercept \n",
    "\n",
    "![](mean.png)\n",
    "\n",
    "- Our aim is to find the line where the MSE is reduced the most.\n",
    "- To do this we need find the best slope and intercept."
   ]
  },
  {
   "cell_type": "markdown",
   "id": "efd1cc28-5f4f-4e0a-a73b-e0808e05152f",
   "metadata": {},
   "source": [
    "### model Evaluation \n",
    "1. Traing and test on the same data Dataset\n",
    "- Portion of the dataset for testing\n",
    "- And 80% of the data for training.\n",
    "- Later we compare with the actual values since we already know the outcomes.\n",
    "- Later we should train the model with the test set as well to get the best optimised.\n",
    "\n",
    "#### High Training Accuracy \n",
    "- How good is the model to fit each value\n",
    "- This is not a good thing always as it can cause over fitting. Noise has gotten into the equation\n",
    "\n",
    "#### out of sample accuracy \n",
    "- % Correct predictions the model has made on new data.\n",
    "\n",
    "in order to negate the above we use a new approach \n",
    "2. Train Test Split\n",
    "- Split the data into training and testing sets.\n",
    "\n",
    "3. Kfold Cross validations\n",
    "- Split the data sets into k parts\n",
    "- then perform the train split\n",
    "- Then take the mean of all the values "
   ]
  },
  {
   "cell_type": "markdown",
   "id": "c16afdb0-25cc-4060-a2d5-893fc36936b4",
   "metadata": {},
   "source": [
    "### Evaluation Metrics \n",
    "1. mean Absolute error - Mean of the absolute Values of the errors\n",
    "2. Mean squared error - get the idea from above \n",
    "3. Root mean squared error - Same\n",
    "\n",
    "\n",
    "R^2 = 1-RSE\n",
    "\n",
    "#### Higher the RSE, the better the model fits the data \n",
    "![](means.png)"
   ]
  },
  {
   "cell_type": "code",
   "execution_count": null,
   "id": "130f38ec-4be9-40d9-b226-9dca3cc2c5ba",
   "metadata": {},
   "outputs": [],
   "source": []
  },
  {
   "cell_type": "code",
   "execution_count": null,
   "id": "0babac7d-7427-4b99-8551-6ab8316b0f2d",
   "metadata": {},
   "outputs": [],
   "source": []
  },
  {
   "cell_type": "code",
   "execution_count": null,
   "id": "f0fca47e-2895-40b2-bca0-762d9abad5aa",
   "metadata": {},
   "outputs": [],
   "source": []
  }
 ],
 "metadata": {
  "kernelspec": {
   "display_name": "Python 3 (ipykernel)",
   "language": "python",
   "name": "python3"
  },
  "language_info": {
   "codemirror_mode": {
    "name": "ipython",
    "version": 3
   },
   "file_extension": ".py",
   "mimetype": "text/x-python",
   "name": "python",
   "nbconvert_exporter": "python",
   "pygments_lexer": "ipython3",
   "version": "3.11.5"
  }
 },
 "nbformat": 4,
 "nbformat_minor": 5
}
