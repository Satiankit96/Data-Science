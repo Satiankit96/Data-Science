{
 "cells": [
  {
   "cell_type": "markdown",
   "id": "3c83180f-dcb7-4ae6-aa6c-167cc9c7711e",
   "metadata": {},
   "source": [
    "## Machine Learning with Python \n",
    "\n",
    "### What is Machine learning and how is it different to AI?\n",
    "Machine Learning is the branch of AI that covers the statistical part of artificial intelligence. It teaches the computer to solve problems by looking at hundreds or thousands of examples, learning from them, and then using that experience to solve the same problem in new situations.\n",
    "\n",
    "### Deep Learning \n",
    "Deep Learning is a very special field of Machine Learning where computers can actually learn and make intelligent decisions on their own. Deep learning involves a deeper level of automation in comparison with most machine learning algorithms. \n",
    "\n",
    "- Discussing use cases\n",
    "- - Stock Market, Banking, Loanings - Economy\n",
    "  - Healthcare, Hostpitals, Medicare, Drugs - Life\n",
    "  - Environment - Surroundings\n",
    "  - Entertainments "
   ]
  },
  {
   "cell_type": "markdown",
   "id": "7faefc95-f0fd-460f-adf9-a77ddeeef1bd",
   "metadata": {},
   "source": [
    "### Introductions \n",
    "Ability for computers to learn with classifications and iterations just how a human would. \n",
    "\n",
    "### machine learning techniques \n",
    "1. Regression/Estimation\n",
    "   - Predicting continous values \n",
    "2. Classification\n",
    "   - Predicting the item class/category \n",
    "3. Clustering\n",
    "   - Finding structure of data : Summarization\n",
    "\n",
    "![](cluster.png)\n",
    "\n",
    "\n",
    "4. Assosiations\n",
    "   - Assosiaing frequent co- occuring events\n",
    "  \n",
    "5. Anamaly Detection - Discovering Abnormal and Unusual cases \n",
    "6. Sequence mining - Predicting the next events. (Clicks in a website)\n",
    "7. Dimension Reduction - Reduce the size of data on hand \n",
    "8. Recommendation systems - Ones discussed above "
   ]
  },
  {
   "cell_type": "markdown",
   "id": "e2c7dd3b-cda6-4e56-9240-7efb768f4128",
   "metadata": {},
   "source": [
    "### Python for Machine learning \n",
    "1. Numpy - used to deal with Ndim arrays.\n",
    "2. Scipy - Domain specific for scientific and statistical parts\n",
    "3. Matplot Lib\n",
    "4. Pandas - High level Python library"
   ]
  }
 ],
 "metadata": {
  "kernelspec": {
   "display_name": "Python 3 (ipykernel)",
   "language": "python",
   "name": "python3"
  },
  "language_info": {
   "codemirror_mode": {
    "name": "ipython",
    "version": 3
   },
   "file_extension": ".py",
   "mimetype": "text/x-python",
   "name": "python",
   "nbconvert_exporter": "python",
   "pygments_lexer": "ipython3",
   "version": "3.11.5"
  }
 },
 "nbformat": 4,
 "nbformat_minor": 5
}
