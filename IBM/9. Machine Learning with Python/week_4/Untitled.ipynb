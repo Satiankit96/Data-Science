{
 "cells": [
  {
   "cell_type": "markdown",
   "id": "a4b7eb32-2be8-4025-86d9-58b1c6ee6d74",
   "metadata": {},
   "source": [
    "## Logistic Regression\n",
    "\n",
    "### Support vector Machine \n",
    "- Supervised Classification Algorithm \n",
    "- "
   ]
  }
 ],
 "metadata": {
  "kernelspec": {
   "display_name": "",
   "name": ""
  },
  "language_info": {
   "name": ""
  }
 },
 "nbformat": 4,
 "nbformat_minor": 5
}
