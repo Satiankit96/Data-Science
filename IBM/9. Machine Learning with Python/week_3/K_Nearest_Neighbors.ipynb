{
 "cells": [
  {
   "cell_type": "markdown",
   "id": "f53861f6-10ee-4643-a36b-7331fbcf17e0",
   "metadata": {},
   "source": [
    "### Introduction to classification \n",
    "- Supervised machine learning approach.  Unkown items into discreet categories/ Classes.\n",
    "- The target variable is a categorical variable with discreet value.\n",
    "- Loan prediction(0/1)\n",
    "- this is a binary classification classifier \n",
    "\n",
    "![](class.png)\n",
    "\n",
    "- Multi class classification (Which drug works well)\n",
    "\n",
    "![](drug)"
   ]
  },
  {
   "cell_type": "code",
   "execution_count": null,
   "id": "7385f7fa-68a0-4961-8f84-d23ccc82633a",
   "metadata": {},
   "outputs": [],
   "source": []
  }
 ],
 "metadata": {
  "kernelspec": {
   "display_name": "",
   "name": ""
  },
  "language_info": {
   "name": ""
  }
 },
 "nbformat": 4,
 "nbformat_minor": 5
}
