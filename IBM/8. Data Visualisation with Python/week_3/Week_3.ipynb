{
 "cells": [
  {
   "cell_type": "markdown",
   "id": "566630eb",
   "metadata": {},
   "source": [
    "# Module 3\n",
    "Advanced visualization tools are sophisticated platforms that provide a wide range of advanced features and capabilities. These tools provide an extensive set of options that help create visually appealing and interactive visualizations. In this module, you will learn about waffle charts and word cloud including their application. You will explore Seaborn, a new visualization library in Python, and learn how to create regression plots using it. In addition, you will learn about folium, a data visualization library that visualizes geospatial data.\n",
    "\n",
    "## objective \n",
    "\n",
    "Explore waffle charts and word cloud along with their application\n",
    "\n",
    "Describe Seaborn and explore the process of generating attractive regression plots\n",
    "\n",
    "Describe Folium and explore the process of creating maps\n",
    "\n",
    "Explore the process of superimposing markers on maps using Foilum\n",
    "\n",
    "Describe Choropleth maps with the help of an illustration\n",
    "\n",
    "Explore the process of creating a Choropleth map using Folium\n"
   ]
  },
  {
   "cell_type": "code",
   "execution_count": null,
   "id": "2c89b402",
   "metadata": {},
   "outputs": [],
   "source": []
  }
 ],
 "metadata": {
  "kernelspec": {
   "display_name": "Python 3 (ipykernel)",
   "language": "python",
   "name": "python3"
  },
  "language_info": {
   "codemirror_mode": {
    "name": "ipython",
    "version": 3
   },
   "file_extension": ".py",
   "mimetype": "text/x-python",
   "name": "python",
   "nbconvert_exporter": "python",
   "pygments_lexer": "ipython3",
   "version": "3.11.5"
  }
 },
 "nbformat": 4,
 "nbformat_minor": 5
}
