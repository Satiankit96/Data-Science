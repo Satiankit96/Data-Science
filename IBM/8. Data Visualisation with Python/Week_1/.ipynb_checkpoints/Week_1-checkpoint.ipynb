{
 "cells": [
  {
   "cell_type": "markdown",
   "id": "6f03cb46",
   "metadata": {},
   "source": [
    "# Module 1\n",
    "Data visualization is a way of presenting complex data in a form that is graphical and easy to understand. When analyzing large volumes of data and making data-driven decisions, data visualization is crucial. In this module, you will learn about data visualization and some key best practices to follow when creating plots and visuals. You will discover the history and the architecture of Matplotlib.  \n",
    "\n",
    "## objective \n",
    "\n",
    "Discuss data visualization and its importance\n",
    "\n",
    "Discover the history of Matplotlib and its architecture\n",
    "\n",
    "Use Matplotlib to create plots employing Jupyter notebook\n",
    "\n",
    "Explore the dataset on immigration to Canada\n",
    "\n",
    "Identify the steps to analyze data in Pandas data frame\n",
    "\n",
    "Use Matplotlib to create line plots\n",
    "\n"
   ]
  },
  {
   "cell_type": "markdown",
   "id": "2d38e394",
   "metadata": {},
   "source": [
    "## Data Visualization\n",
    "Data visualization is a way of presenting complex data in a form that is graphical and easy to understand. When analyzing large volumes of data and making data-driven decisions, data visualization is crucial. \n",
    "\n",
    "1. Charts and Graphs \n",
    "2. Dashboards - Real time information \n",
    "\n",
    "- Understand data sets \n",
    "- Communicate the insights \n",
    "- Act, record, feedback and improve\n",
    "- Use cases across platform are discussed \n"
   ]
  },
  {
   "cell_type": "markdown",
   "id": "fefc24c7",
   "metadata": {},
   "source": [
    "## Best Practices \n",
    "- Choosing the right type of Viz for the data we are working upon \n",
    "- keep it simple \n",
    "- Clear labeling and titles \n",
    "- Good colors \n",
    "- Consider the audience \n",
    "\n",
    "\n",
    "- Less is more effective, attractive and impactfull. "
   ]
  }
 ],
 "metadata": {
  "kernelspec": {
   "display_name": "Python 3 (ipykernel)",
   "language": "python",
   "name": "python3"
  },
  "language_info": {
   "codemirror_mode": {
    "name": "ipython",
    "version": 3
   },
   "file_extension": ".py",
   "mimetype": "text/x-python",
   "name": "python",
   "nbconvert_exporter": "python",
   "pygments_lexer": "ipython3",
   "version": "3.11.5"
  }
 },
 "nbformat": 4,
 "nbformat_minor": 5
}
