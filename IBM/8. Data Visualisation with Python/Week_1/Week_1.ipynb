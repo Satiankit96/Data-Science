{
 "cells": [
  {
   "cell_type": "markdown",
   "id": "6f03cb46",
   "metadata": {},
   "source": [
    "# Module 1\n",
    "Data visualization is a way of presenting complex data in a form that is graphical and easy to understand. When analyzing large volumes of data and making data-driven decisions, data visualization is crucial. In this module, you will learn about data visualization and some key best practices to follow when creating plots and visuals. You will discover the history and the architecture of Matplotlib.  \n",
    "\n",
    "## objective \n",
    "\n",
    "Discuss data visualization and its importance\n",
    "\n",
    "Discover the history of Matplotlib and its architecture\n",
    "\n",
    "Use Matplotlib to create plots employing Jupyter notebook\n",
    "\n",
    "Explore the dataset on immigration to Canada\n",
    "\n",
    "Identify the steps to analyze data in Pandas data frame\n",
    "\n",
    "Use Matplotlib to create line plots\n",
    "\n"
   ]
  },
  {
   "cell_type": "markdown",
   "id": "efd4b719",
   "metadata": {},
   "source": [
    "## Data Visualization\n",
    "Data visualization is a way of presenting complex data in a form that is graphical and easy to understand. When analyzing large volumes of data and making data-driven decisions, data visualization is crucial. \n",
    "\n",
    "1. Charts and Graphs \n",
    "2. Dashboards - Real time information \n",
    "\n",
    "- Understand data sets \n",
    "- Communicate the insights \n",
    "- Act, record, feedback and improve\n",
    "- Use cases across platform are discussed \n"
   ]
  },
  {
   "cell_type": "markdown",
   "id": "9cc32462",
   "metadata": {},
   "source": [
    "## Best Practices \n",
    "- Choosing the right type of Viz for the data we are working upon \n",
    "- keep it simple \n",
    "- Clear labeling and titles \n",
    "- Good colors \n",
    "- Consider the audience \n",
    "\n",
    "\n",
    "- Less is more effective, attractive and impactfull. "
   ]
  },
  {
   "cell_type": "markdown",
   "id": "a53eb14b",
   "metadata": {},
   "source": [
    "## Types of plots \n",
    "\n",
    "### 1. Line plot - Series of data points across the line.\n",
    "#### When to use line plots ?\n",
    "- Displays Trends over time \n",
    "- cause and effect relationships \n",
    "- Visualize cont. data \n",
    "- highlight sudden changes and anamolies \n",
    "\n",
    "Drawback \n",
    "- set the scales on the axis properly.\n",
    "![](line.png)\n",
    "\n",
    "\n",
    "### 2. Bar Plot\n",
    "\n",
    "- Compare diff categories of data.\n",
    "- rankings\n",
    "- how different groups contribute to the data.\n",
    "\n",
    "Drwabacks \n",
    "Same as above.\n",
    "\n",
    "### 3. Scatter Plot - Points on a cartisan plane.\n",
    "- Two variables but not many \n",
    "- Figuring out outkliers.\n",
    "- Exploring complex data \n",
    "\n",
    "\n",
    "### 4. Box plot - Interquartile range. Displays data along with key statistical measures. \n",
    "NOTE - it still shows the data points beyond the whiskers.\n",
    "- Comparing continous variable across different groups\n",
    "- Summary statics \n",
    "- Mostly mathematical models with mean medians and modes.\n",
    "\n",
    "![](box.png)\n",
    "\n",
    "### 5. Histogram \n",
    "The bar graph is the graphical representation of categorical data. A histogram is the graphical representation of quantitative data.\n",
    "\n",
    "Thes show the data distribution/ concentration within intervals \n",
    "\n",
    "- these are generally created witjin a category. \n",
    "- Changes are captured over a period of another constant.\n",
    "- make sure the binning is adequate(not too much or little )\n",
    "\n",
    "![](histogram.png)\n"
   ]
  },
  {
   "cell_type": "markdown",
   "id": "80c225b8",
   "metadata": {},
   "source": [
    "## Plot Libraries \n",
    "\n",
    "### 1. Matplotlib\n",
    "- general Purpose library \n",
    "- Integrates best with some normal libraries.\n",
    "- Has almost all the above within them.\n",
    "- Good comunity support\n",
    "\n",
    "### 2. Pandas\n",
    "- Data manupulation but can plot as well.\n",
    "- built upon matplotlib so it will work well\n",
    "- Same as above for the rest \n",
    "\n",
    "### 3. Seaborn \n",
    "- This is also based upon matplotlib \n",
    "- Great option for statistical data \n",
    "- Almost same as the above \n",
    "\n",
    "\n",
    "### 4. Folium - Geospatial data Viz\n",
    "- Good integration withon Python \n",
    "\n",
    "### 5. Plotly \n",
    "- Used to create dashboards for real time data viz \n",
    "- Rest everything remains same \n",
    "- This is all web based and hence very easy to share. "
   ]
  },
  {
   "cell_type": "markdown",
   "id": "dd41bb51",
   "metadata": {},
   "source": [
    "## Introduction to MatplotLib\n",
    "- used and created in Python \n",
    "\n",
    "![](plot.png)"
   ]
  },
  {
   "cell_type": "code",
   "execution_count": 10,
   "id": "c36e504c",
   "metadata": {},
   "outputs": [
    {
     "data": {
      "text/plain": [
       "Text(0, 0.5, 'Y')"
      ]
     },
     "execution_count": 10,
     "metadata": {},
     "output_type": "execute_result"
    },
    {
     "data": {
      "image/png": "[encoded data removed]",
      "text/plain": [
       "<Figure size 640x480 with 1 Axes>"
      ]
     },
     "metadata": {},
     "output_type": "display_data"
    }
   ],
   "source": [
    "# This magic function processes the results within the same notebook. (no pop out)\n",
    "%matplotlib inline \n",
    "import matplotlib.pyplot as plt\n",
    "plt.plot(5,5,'o')\n",
    "plt.xlabel(\"X\")\n",
    "plt.ylabel(\"Y\")\n",
    "\n",
    "# df.plot(kind='line')\n",
    "# df.plot['Column_name'](kind='hist')\n"
   ]
  },
  {
   "cell_type": "code",
   "execution_count": null,
   "id": "e27cad22",
   "metadata": {},
   "outputs": [],
   "source": []
  }
 ],
 "metadata": {
  "kernelspec": {
   "display_name": "Python 3 (ipykernel)",
   "language": "python",
   "name": "python3"
  },
  "language_info": {
   "codemirror_mode": {
    "name": "ipython",
    "version": 3
   },
   "file_extension": ".py",
   "mimetype": "text/x-python",
   "name": "python",
   "nbconvert_exporter": "python",
   "pygments_lexer": "ipython3",
   "version": "3.11.5"
  }
 },
 "nbformat": 4,
 "nbformat_minor": 5
}
