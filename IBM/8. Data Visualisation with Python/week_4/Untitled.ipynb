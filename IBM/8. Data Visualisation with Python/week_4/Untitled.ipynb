{
 "cells": [
  {
   "cell_type": "markdown",
   "id": "f3cbadf2",
   "metadata": {},
   "source": [
    "# Module 4\n",
    "Dashboards and interactive data applications are crucial tools for data visualization and analysis because they provide a consolidated view of key data and metrics in a visually appealing and understandable format. In this module, you will explore the benefits of dashboards and identify the different web-based dashboarding tools in Python. You will learn about Plotly and discover how to use Plotly graph objects and Plotly express to create charts. \n",
    "\n",
    "## objective \n",
    "\n",
    "Identify different web-based dashboarding tools available in Python\n",
    "\n",
    "Explore Plotly and its two sub-modules\n",
    "\n",
    "Use Plotly graph objects and Plotly express to create charts\n",
    "\n",
    "Discover Dash and its two components\n",
    "\n",
    "Describe the callback function\n",
    "\n",
    "Determine the process of connecting core and HTML components using callback\n"
   ]
  },
  {
   "cell_type": "code",
   "execution_count": null,
   "id": "422e8048",
   "metadata": {},
   "outputs": [],
   "source": []
  }
 ],
 "metadata": {
  "kernelspec": {
   "display_name": "Python 3 (ipykernel)",
   "language": "python",
   "name": "python3"
  },
  "language_info": {
   "codemirror_mode": {
    "name": "ipython",
    "version": 3
   },
   "file_extension": ".py",
   "mimetype": "text/x-python",
   "name": "python",
   "nbconvert_exporter": "python",
   "pygments_lexer": "ipython3",
   "version": "3.11.5"
  }
 },
 "nbformat": 4,
 "nbformat_minor": 5
}
