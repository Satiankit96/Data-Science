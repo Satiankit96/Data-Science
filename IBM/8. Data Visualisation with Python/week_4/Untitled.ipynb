{
 "cells": [
  {
   "cell_type": "markdown",
   "id": "f3cbadf2",
   "metadata": {},
   "source": [
    "# Module 4\n",
    "Dashboards and interactive data applications are crucial tools for data visualization and analysis because they provide a consolidated view of key data and metrics in a visually appealing and understandable format. In this module, you will explore the benefits of dashboards and identify the different web-based dashboarding tools in Python. You will learn about Plotly and discover how to use Plotly graph objects and Plotly express to create charts. \n",
    "\n",
    "## objective \n",
    "\n",
    "Identify different web-based dashboarding tools available in Python\n",
    "\n",
    "Explore Plotly and its two sub-modules\n",
    "\n",
    "Use Plotly graph objects and Plotly express to create charts\n",
    "\n",
    "Discover Dash and its two components\n",
    "\n",
    "Describe the callback function\n",
    "\n",
    "Determine the process of connecting core and HTML components using callback\n"
   ]
  },
  {
   "cell_type": "markdown",
   "id": "a64884bb-6841-4e17-80b2-1d3f0c4b1b55",
   "metadata": {},
   "source": [
    "## Dashboards\n",
    "\n",
    "- These are live values meant to update and provide information in real time\n",
    "- plotly - dash\n",
    "- Panel works"
   ]
  },
  {
   "cell_type": "markdown",
   "id": "fb706b57-81e1-4c38-9520-e846a2820541",
   "metadata": {},
   "source": [
    "## plotly \n",
    "- Open source plotting library\n",
    "- Part of Python infrastructure\n",
    "\n",
    "### Modules \n",
    "1. plotly.graph_objects - Low leve interfcae to figures, traces etc.\n",
    "2. plotly.express - High level Wrapper"
   ]
  },
  {
   "cell_type": "code",
   "execution_count": 3,
   "id": "0130405d-526c-4ed2-ae2f-113e220aa9c9",
   "metadata": {},
   "outputs": [],
   "source": [
    "import plotly.graph_objects as go\n",
    "import plotly.express as px\n",
    "import numpy as np"
   ]
  },
  {
   "cell_type": "code",
   "execution_count": 5,
   "id": "5e8de385-e2a9-4315-b6c7-f98939557f91",
   "metadata": {},
   "outputs": [],
   "source": [
    "np.random.seed(10)\n",
    "x = np.arange(12)\n",
    "y = np.random.randint(50,500, size = 12)"
   ]
  },
  {
   "cell_type": "markdown",
   "id": "27a3c9fc-6268-4731-aa3e-9a5dcb0896f1",
   "metadata": {},
   "source": [
    "(pseudo-)random numbers work by starting with a number (the seed), multiplying it by a large number, adding an offset, then taking modulo of that sum. The resulting number is then used as the seed to generate the next \"random\" number. When you set the seed (every time), it does the same thing every time, giving you the same numbers.\n",
    "\n",
    "If you want seemingly random numbers, do not set the seed. If you have code that uses random numbers that you want to debug, however, it can be very helpful to set the seed before each run so that the code does the same thing every time you run it."
   ]
  },
  {
   "cell_type": "code",
   "execution_count": 7,
   "id": "b38ad872-69c8-4ca2-9ca7-b6375ff7f6d1",
   "metadata": {},
   "outputs": [],
   "source": [
    "# f = go.Figure(data=Scatter(x=x,y=y))"
   ]
  },
  {
   "cell_type": "code",
   "execution_count": null,
   "id": "31c626ef-1a56-4e39-a7e7-3e2206f9844c",
   "metadata": {},
   "outputs": [],
   "source": []
  }
 ],
 "metadata": {
  "kernelspec": {
   "display_name": "Python 3 (ipykernel)",
   "language": "python",
   "name": "python3"
  },
  "language_info": {
   "codemirror_mode": {
    "name": "ipython",
    "version": 3
   },
   "file_extension": ".py",
   "mimetype": "text/x-python",
   "name": "python",
   "nbconvert_exporter": "python",
   "pygments_lexer": "ipython3",
   "version": "3.11.5"
  }
 },
 "nbformat": 4,
 "nbformat_minor": 5
}
