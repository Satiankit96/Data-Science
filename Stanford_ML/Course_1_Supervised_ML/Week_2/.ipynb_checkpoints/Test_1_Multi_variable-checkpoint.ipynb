{
 "cells": [
  {
   "cell_type": "code",
   "execution_count": 49,
   "id": "a6713363-89fe-4541-85c9-438184577bbc",
   "metadata": {},
   "outputs": [],
   "source": [
    "# Utilized NumPy np.dot to vectorize the implementations\n",
    "import math,copy\n",
    "import numpy as np \n",
    "import matplotlib.pyplot as plt\n",
    "plt.style.use('./deeplearning.mplstyle')\n",
    "np.set_printoptions(precision=2)  # reduced display precision on numpy arrays"
   ]
  },
  {
   "cell_type": "code",
   "execution_count": 4,
   "id": "c44ea443-59c3-4e9c-8203-4554e5dffd81",
   "metadata": {},
   "outputs": [],
   "source": [
    "X_train = np.array([[2104, 5, 1, 45], [1416, 3, 2, 40], [852, 2, 1, 35]])\n",
    "y_train = np.array ([460, 232, 178])"
   ]
  },
  {
   "cell_type": "code",
   "execution_count": 10,
   "id": "a40a650f-ba13-4fcf-a2e7-c4c2afdcc1a5",
   "metadata": {},
   "outputs": [
    {
     "name": "stdout",
     "output_type": "stream",
     "text": [
      "X Shape : (3, 4), X size : <class 'numpy.ndarray'>\n",
      "[[2104    5    1   45]\n",
      " [1416    3    2   40]\n",
      " [ 852    2    1   35]]\n",
      "y SHape : (3,), Y size : <class 'numpy.ndarray'>\n",
      "[460 232 178]\n"
     ]
    }
   ],
   "source": [
    "# Data representation with the matrix \n",
    "print(f\"X Shape : {X_train.shape}, X size : {type(X_train)}\" )\n",
    "print (X_train)\n",
    "print (f\"y SHape : {y_train.shape}, Y size : {type(y_train)}\")\n",
    "print(y_train) "
   ]
  },
  {
   "cell_type": "code",
   "execution_count": 12,
   "id": "f7a96df7-e164-4e91-9f85-bd3ff4570c75",
   "metadata": {},
   "outputs": [
    {
     "name": "stdout",
     "output_type": "stream",
     "text": [
      "b_init Size : <class 'float'>, w_init Size : <class 'numpy.ndarray'>\n"
     ]
    }
   ],
   "source": [
    "# Initializing Parameters (vector)W and b\n",
    "# W is a Vector with the same size as n (number of features in X(single example))\n",
    "b_init = 785.1811367994083\n",
    "w_init = np.array([ 0.39133535, 18.75376741, -53.36032453, -26.42131618])\n",
    "print (f\"b_init Size : {type(b_init)}, w_init Size : {type(w_init)}\")"
   ]
  },
  {
   "cell_type": "code",
   "execution_count": 21,
   "id": "fe11f9ae-fce3-4454-a476-dab989b43e59",
   "metadata": {},
   "outputs": [],
   "source": [
    "def predict_single_loop(x,w,b):\n",
    "    n = x.shape[0]\n",
    "    p = 0\n",
    "    for i in range (n):\n",
    "        p_i = x[i] * w[i]\n",
    "        p += p_i\n",
    "\n",
    "    p += b\n",
    "    return p\n",
    "\n",
    "    \"\"\"\n",
    "    single predict using linear regression\n",
    "    \n",
    "    Args:\n",
    "      x (ndarray): Shape (n,) example with multiple features\n",
    "      w (ndarray): Shape (n,) model parameters    \n",
    "      b (scalar):  model parameter     \n",
    "      \n",
    "    Returns:\n",
    "      p (scalar):  prediction\n",
    "    \"\"\""
   ]
  },
  {
   "cell_type": "code",
   "execution_count": 22,
   "id": "237a3919-959d-411f-a8ae-6d0acea6b34b",
   "metadata": {},
   "outputs": [
    {
     "name": "stdout",
     "output_type": "stream",
     "text": [
      "X_vec Shape : (4,), x_vec : [2104    5    1   45] \n"
     ]
    }
   ],
   "source": [
    "# Get a Row from our training set \n",
    "x_vec = X_train[0,:]\n",
    "print(f\"X_vec Shape : {x_vec.shape}, x_vec : {x_vec} \")"
   ]
  },
  {
   "cell_type": "code",
   "execution_count": 23,
   "id": "2d37d19b-5d27-46ed-98f6-07a255f0e371",
   "metadata": {},
   "outputs": [
    {
     "name": "stdout",
     "output_type": "stream",
     "text": [
      "Prdeiction : 459.9999976194083\n"
     ]
    }
   ],
   "source": [
    "f_wb = predict_single_loop(x_vec,w_init,b_init)\n",
    "print (f\"Prdeiction : {f_wb}\")"
   ]
  },
  {
   "cell_type": "code",
   "execution_count": 28,
   "id": "f4e937c1-4e41-4321-8c67-939d6b96fec7",
   "metadata": {},
   "outputs": [],
   "source": [
    "# Using the Numpy library to do the same as above \n",
    "def predict(x,w,b):\n",
    "    p = np.dot(x,w) + b\n",
    "    return p\n",
    "\n",
    "    \"\"\"\n",
    "    single predict using linear regression\n",
    "    Args:\n",
    "      x (ndarray): Shape (n,) example with multiple features\n",
    "      w (ndarray): Shape (n,) model parameters   \n",
    "      b (scalar):             model parameter \n",
    "      \n",
    "    Returns:\n",
    "      p (scalar):  prediction\n",
    "    \"\"\""
   ]
  },
  {
   "cell_type": "code",
   "execution_count": 29,
   "id": "2ec9e3fc-dd62-4911-86fe-0ef755b6ccb7",
   "metadata": {},
   "outputs": [
    {
     "name": "stdout",
     "output_type": "stream",
     "text": [
      "Prediction : 459.9999976194083\n"
     ]
    }
   ],
   "source": [
    "# Making Predictions \n",
    "x_vec = X_train[0,:]\n",
    "f_wb = predict (x_vec,w_init,b_init)\n",
    "print(f\"Prediction : {f_wb}\")"
   ]
  },
  {
   "cell_type": "code",
   "execution_count": 31,
   "id": "bcdc5b8b-4205-4ae0-bab3-47437c974477",
   "metadata": {},
   "outputs": [],
   "source": [
    "# Computing the Cost function with multiple Variables \n",
    "def compute_cost(X,y,w,b):\n",
    "    m = X.shape[0]\n",
    "    cost = 0.0\n",
    "    for i in range (m):\n",
    "        f_wb_i = np.dot (X[i],w) + b \n",
    "        cost = cost + (f_wb_i - y[i])**2\n",
    "    cost = cost /(2 *m)\n",
    "    return cost\n",
    "    "
   ]
  },
  {
   "cell_type": "code",
   "execution_count": 34,
   "id": "4b7390fd-7bf5-45fb-b542-cb9451be2a69",
   "metadata": {},
   "outputs": [
    {
     "name": "stdout",
     "output_type": "stream",
     "text": [
      "X : [[2104    5    1   45]\n",
      " [1416    3    2   40]\n",
      " [ 852    2    1   35]], Y : [460 232 178], W : [  0.39  18.75 -53.36 -26.42], B : 785.1811367994083\n"
     ]
    }
   ],
   "source": [
    "print (f\"X : {X_train}, Y : {y_train}, W : {w_init}, B : {b_init}\")"
   ]
  },
  {
   "cell_type": "code",
   "execution_count": null,
   "id": "fdc2f25a-ab9f-4a92-9dc0-a561cfb6e4fe",
   "metadata": {},
   "outputs": [],
   "source": [
    "cost = compute_cost(X_train, y_train, w_init, b_init)\n",
    "print (f\"Cost at optimal w : {cost}\")"
   ]
  },
  {
   "cell_type": "code",
   "execution_count": 46,
   "id": "a1d84e7d-bcf5-4068-954d-c04438ed126b",
   "metadata": {},
   "outputs": [],
   "source": [
    "def compute_gradient(X, y, w, b): \n",
    "    m,n = X.shape           #(number of examples, number of features)\n",
    "    dj_dw = np.zeros((n,))\n",
    "    dj_db = 0.\n",
    "\n",
    "    for i in range(m):                             \n",
    "        err = (np.dot(X[i], w) + b) - y[i]   \n",
    "        for j in range(n):                         \n",
    "            dj_dw[j] = dj_dw[j] + err * X[i, j]    \n",
    "        dj_db = dj_db + err                        \n",
    "    dj_dw = dj_dw / m                                \n",
    "    dj_db = dj_db / m                                \n",
    "        \n",
    "    return dj_db, dj_dw"
   ]
  },
  {
   "cell_type": "code",
   "execution_count": 47,
   "id": "0bb3d15a-9a88-464c-b507-3adebef82ad4",
   "metadata": {},
   "outputs": [],
   "source": [
    "def gradient_descent(X, y, w_in, b_in, cost_function, gradient_function, alpha, num_iters): \n",
    "    \n",
    "    # An array to store cost J and w's at each iteration primarily for graphing later\n",
    "    J_history = []\n",
    "    w = copy.deepcopy(w_in)  #avoid modifying global w within function\n",
    "    b = b_in\n",
    "\n",
    "    for i in range (num_iters):\n",
    "        #internal numpy library \n",
    "        dj_dw,dj_db = gradient_function(X,y,w,b)\n",
    "        #Updating new values of w and b using the values learning rate and old values \n",
    "        w = w - alpha * dj_dw\n",
    "        b = b - alpha * dj_db\n",
    "        # Save the value of J at each Iter\n",
    "        if i < 100000: # Prevent resource Exchaustion \n",
    "            J_history.append(cost_function(X,y,w,b))\n",
    "        \n",
    "        # Print cost every at intervals 10 times or as many iterations if < 10\n",
    "        if i% math.ceil(num_iters / 10) == 0:\n",
    "            print(f\"Iteration {i:4d}: Cost {J_history[-1]:8.2f}   \")\n",
    "    return w, b, J_history #return final w,b and J history for graphing\n",
    "        "
   ]
  },
  {
   "cell_type": "code",
   "execution_count": 48,
   "id": "fa1cd13d-f110-4e3d-8855-f97fea9a397a",
   "metadata": {},
   "outputs": [
    {
     "ename": "TypeError",
     "evalue": "unsupported format string passed to numpy.ndarray.__format__",
     "output_type": "error",
     "traceback": [
      "\u001b[1;31m---------------------------------------------------------------------------\u001b[0m",
      "\u001b[1;31mTypeError\u001b[0m                                 Traceback (most recent call last)",
      "Cell \u001b[1;32mIn[48], line 8\u001b[0m\n\u001b[0;32m      6\u001b[0m alpha \u001b[38;5;241m=\u001b[39m \u001b[38;5;241m5.0e-7\u001b[39m\n\u001b[0;32m      7\u001b[0m \u001b[38;5;66;03m# run gradient descent \u001b[39;00m\n\u001b[1;32m----> 8\u001b[0m w_final, b_final, J_hist \u001b[38;5;241m=\u001b[39m \u001b[43mgradient_descent\u001b[49m\u001b[43m(\u001b[49m\u001b[43mX_train\u001b[49m\u001b[43m,\u001b[49m\u001b[43m \u001b[49m\u001b[43my_train\u001b[49m\u001b[43m,\u001b[49m\u001b[43m \u001b[49m\u001b[43minitial_w\u001b[49m\u001b[43m,\u001b[49m\u001b[43m \u001b[49m\u001b[43minitial_b\u001b[49m\u001b[43m,\u001b[49m\n\u001b[0;32m      9\u001b[0m \u001b[43m                                                    \u001b[49m\u001b[43mcompute_cost\u001b[49m\u001b[43m,\u001b[49m\u001b[43m \u001b[49m\u001b[43mcompute_gradient\u001b[49m\u001b[43m,\u001b[49m\u001b[43m \u001b[49m\n\u001b[0;32m     10\u001b[0m \u001b[43m                                                    \u001b[49m\u001b[43malpha\u001b[49m\u001b[43m,\u001b[49m\u001b[43m \u001b[49m\u001b[43miterations\u001b[49m\u001b[43m)\u001b[49m\n\u001b[0;32m     11\u001b[0m \u001b[38;5;28mprint\u001b[39m(\u001b[38;5;124mf\u001b[39m\u001b[38;5;124m\"\u001b[39m\u001b[38;5;124mb,w found by gradient descent: \u001b[39m\u001b[38;5;132;01m{\u001b[39;00mb_final\u001b[38;5;132;01m:\u001b[39;00m\u001b[38;5;124m0.2f\u001b[39m\u001b[38;5;132;01m}\u001b[39;00m\u001b[38;5;124m,\u001b[39m\u001b[38;5;132;01m{\u001b[39;00mw_final\u001b[38;5;132;01m}\u001b[39;00m\u001b[38;5;124m \u001b[39m\u001b[38;5;124m\"\u001b[39m)\n\u001b[0;32m     12\u001b[0m m,_ \u001b[38;5;241m=\u001b[39m X_train\u001b[38;5;241m.\u001b[39mshape\n",
      "Cell \u001b[1;32mIn[47], line 20\u001b[0m, in \u001b[0;36mgradient_descent\u001b[1;34m(X, y, w_in, b_in, cost_function, gradient_function, alpha, num_iters)\u001b[0m\n\u001b[0;32m     18\u001b[0m     \u001b[38;5;66;03m# Print cost every at intervals 10 times or as many iterations if < 10\u001b[39;00m\n\u001b[0;32m     19\u001b[0m     \u001b[38;5;28;01mif\u001b[39;00m i\u001b[38;5;241m%\u001b[39m math\u001b[38;5;241m.\u001b[39mceil(num_iters \u001b[38;5;241m/\u001b[39m \u001b[38;5;241m10\u001b[39m) \u001b[38;5;241m==\u001b[39m \u001b[38;5;241m0\u001b[39m:\n\u001b[1;32m---> 20\u001b[0m         \u001b[38;5;28mprint\u001b[39m(\u001b[38;5;124mf\u001b[39m\u001b[38;5;124m\"\u001b[39m\u001b[38;5;124mIteration \u001b[39m\u001b[38;5;132;01m{\u001b[39;00mi\u001b[38;5;132;01m:\u001b[39;00m\u001b[38;5;124m4d\u001b[39m\u001b[38;5;132;01m}\u001b[39;00m\u001b[38;5;124m: Cost \u001b[39m\u001b[38;5;132;01m{\u001b[39;00mJ_history[\u001b[38;5;241m-\u001b[39m\u001b[38;5;241m1\u001b[39m]\u001b[38;5;132;01m:\u001b[39;00m\u001b[38;5;124m8.2f\u001b[39m\u001b[38;5;132;01m}\u001b[39;00m\u001b[38;5;124m   \u001b[39m\u001b[38;5;124m\"\u001b[39m)\n\u001b[0;32m     21\u001b[0m \u001b[38;5;28;01mreturn\u001b[39;00m w, b, J_history\n",
      "\u001b[1;31mTypeError\u001b[0m: unsupported format string passed to numpy.ndarray.__format__"
     ]
    }
   ],
   "source": [
    "# initialize parameters\n",
    "initial_w = np.zeros_like(w_init)\n",
    "initial_b = 0.\n",
    "# some gradient descent settings\n",
    "iterations = 1000\n",
    "alpha = 5.0e-7\n",
    "# run gradient descent \n",
    "w_final, b_final, J_hist = gradient_descent(X_train, y_train, initial_w, initial_b,\n",
    "                                                    compute_cost, compute_gradient, \n",
    "                                                    alpha, iterations)\n",
    "print(f\"b,w found by gradient descent: {b_final:0.2f},{w_final} \")\n",
    "m,_ = X_train.shape\n",
    "for i in range(m):\n",
    "    print(f\"prediction: {np.dot(X_train[i], w_final) + b_final:0.2f}, target value: {y_train[i]}\")"
   ]
  },
  {
   "cell_type": "code",
   "execution_count": null,
   "id": "fdd2b44b-7b5b-488f-acd6-858163f7eeb5",
   "metadata": {},
   "outputs": [],
   "source": []
  }
 ],
 "metadata": {
  "kernelspec": {
   "display_name": "Python 3 (ipykernel)",
   "language": "python",
   "name": "python3"
  },
  "language_info": {
   "codemirror_mode": {
    "name": "ipython",
    "version": 3
   },
   "file_extension": ".py",
   "mimetype": "text/x-python",
   "name": "python",
   "nbconvert_exporter": "python",
   "pygments_lexer": "ipython3",
   "version": "3.11.5"
  }
 },
 "nbformat": 4,
 "nbformat_minor": 5
}
