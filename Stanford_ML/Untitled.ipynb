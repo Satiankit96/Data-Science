{
 "cells": [
  {
   "cell_type": "code",
   "execution_count": 1,
   "id": "bfb24c04-9e3e-4365-a71d-2f3587f01e99",
   "metadata": {},
   "outputs": [],
   "source": [
    "# Notebook Belongs to Mr. Nautiyal"
   ]
  },
  {
   "cell_type": "code",
   "execution_count": 10,
   "id": "62c300ad-576f-4cb2-85eb-7a14455565ff",
   "metadata": {},
   "outputs": [
    {
     "ename": "ValueError",
     "evalue": "shapes (1,5) and (2,) not aligned: 5 (dim 1) != 2 (dim 0)",
     "output_type": "error",
     "traceback": [
      "\u001b[1;31m---------------------------------------------------------------------------\u001b[0m",
      "\u001b[1;31mValueError\u001b[0m                                Traceback (most recent call last)",
      "Cell \u001b[1;32mIn[10], line 37\u001b[0m\n\u001b[0;32m     34\u001b[0m         \u001b[38;5;28mprint\u001b[39m(\u001b[38;5;124mf\u001b[39m\u001b[38;5;124m\"\u001b[39m\u001b[38;5;132;01m{\u001b[39;00minput_data\u001b[38;5;132;01m}\u001b[39;00m\u001b[38;5;124m,\u001b[39m\u001b[38;5;132;01m{\u001b[39;00mhidden1_output\u001b[38;5;132;01m}\u001b[39;00m\u001b[38;5;124m,\u001b[39m\u001b[38;5;132;01m{\u001b[39;00mhidden2_output\u001b[38;5;132;01m}\u001b[39;00m\u001b[38;5;124m,\u001b[39m\u001b[38;5;132;01m{\u001b[39;00moutput\u001b[38;5;132;01m}\u001b[39;00m\u001b[38;5;124m\"\u001b[39m)\n\u001b[0;32m     36\u001b[0m obj\u001b[38;5;241m=\u001b[39mAmit()\n\u001b[1;32m---> 37\u001b[0m \u001b[43mobj\u001b[49m\u001b[38;5;241;43m.\u001b[39;49m\u001b[43minitialize_weight_and_bias\u001b[49m\u001b[43m(\u001b[49m\u001b[43m)\u001b[49m\n",
      "Cell \u001b[1;32mIn[10], line 30\u001b[0m, in \u001b[0;36mAmit.initialize_weight_and_bias\u001b[1;34m(self)\u001b[0m\n\u001b[0;32m     28\u001b[0m input_data \u001b[38;5;241m=\u001b[39m np\u001b[38;5;241m.\u001b[39mrandom\u001b[38;5;241m.\u001b[39mrand(\u001b[38;5;241m1\u001b[39m,\u001b[38;5;28mself\u001b[39m\u001b[38;5;241m.\u001b[39minput_size)\n\u001b[0;32m     29\u001b[0m \u001b[38;5;66;03m## now building the network \u001b[39;00m\n\u001b[1;32m---> 30\u001b[0m hidden1_output\u001b[38;5;241m=\u001b[39m \u001b[38;5;28mself\u001b[39m\u001b[38;5;241m.\u001b[39mrelu(\u001b[43mnp\u001b[49m\u001b[38;5;241;43m.\u001b[39;49m\u001b[43mdot\u001b[49m\u001b[43m(\u001b[49m\u001b[43minput_data\u001b[49m\u001b[43m,\u001b[49m\u001b[43mwt_input_hidden1\u001b[49m\u001b[43m)\u001b[49m\u001b[38;5;241m+\u001b[39mbias_hidden1) \u001b[38;5;66;03m# Layer 1 \u001b[39;00m\n\u001b[0;32m     31\u001b[0m hidden2_output\u001b[38;5;241m=\u001b[39m \u001b[38;5;28mself\u001b[39m\u001b[38;5;241m.\u001b[39mrelu(np\u001b[38;5;241m.\u001b[39mdot(hidden1_output, wt_input_hidden1_hidden2) \u001b[38;5;241m+\u001b[39mbias_hidden2) \u001b[38;5;66;03m# layer 2\u001b[39;00m\n\u001b[0;32m     32\u001b[0m output \u001b[38;5;241m=\u001b[39m sigmoid(np\u001b[38;5;241m.\u001b[39mdot(hidden2_output,wt_hidden2_op)\u001b[38;5;241m+\u001b[39mbiases_output) \u001b[38;5;66;03m# Neural; network O/P after \u001b[39;00m\n",
      "File \u001b[1;32m<__array_function__ internals>:200\u001b[0m, in \u001b[0;36mdot\u001b[1;34m(*args, **kwargs)\u001b[0m\n",
      "\u001b[1;31mValueError\u001b[0m: shapes (1,5) and (2,) not aligned: 5 (dim 1) != 2 (dim 0)"
     ]
    }
   ],
   "source": [
    "import numpy as np\n",
    "\n",
    "class Amit:\n",
    "    def __init__(self):\n",
    "        self.input_size = 5\n",
    "        self.hidden_size1=10\n",
    "        self.hidden_size2 =8\n",
    "        self.op_size= 3\n",
    "    \n",
    "    def sigmoid(self,x):\n",
    "        return 1/(1+np.exp(-x))\n",
    "\n",
    "    def relu(self, x):\n",
    "        return np.maximum(0,x)\n",
    "\n",
    "\n",
    "    def initialize_weight_and_bias(self):\n",
    "        wt_input_hidden1= self.input_size,self.hidden_size1\n",
    "        bias_hidden1= np.random.rand(self.hidden_size1,)\n",
    "        wt_input_hidden1_hidden2= np.random.rand(self.hidden_size1,self.hidden_size2)\n",
    "        bias_hidden2= np.random.rand(1,self.hidden_size2)\n",
    "        wt_hidden2_op= np.random.rand(self.hidden_size2, self.op_size)\n",
    "        biases_output = np.random.rand(1,self.op_size)\n",
    "\n",
    "        input_data = np.random.rand(1,self.input_size)\n",
    "        ## now building the network \n",
    "        hidden1_output= self.relu(np.dot(input_data,wt_input_hidden1)+bias_hidden1) # Layer 1 \n",
    "        hidden2_output= self.relu(np.dot(hidden1_output, wt_input_hidden1_hidden2) +bias_hidden2) # layer 2\n",
    "        output = sigmoid(np.dot(hidden2_output,wt_hidden2_op)+biases_output) # Neural; network O/P after \n",
    "\n",
    "        print(f\"{input_data},{hidden1_output},{hidden2_output},{output}\")\n",
    "\n",
    "obj=Amit()\n",
    "obj.initialize_weight_and_bias()"
   ]
  },
  {
   "cell_type": "code",
   "execution_count": null,
   "id": "0c792961-07fa-47df-80f3-b2fc19c41847",
   "metadata": {},
   "outputs": [],
   "source": []
  }
 ],
 "metadata": {
  "kernelspec": {
   "display_name": "Python 3 (ipykernel)",
   "language": "python",
   "name": "python3"
  },
  "language_info": {
   "codemirror_mode": {
    "name": "ipython",
    "version": 3
   },
   "file_extension": ".py",
   "mimetype": "text/x-python",
   "name": "python",
   "nbconvert_exporter": "python",
   "pygments_lexer": "ipython3",
   "version": "3.11.5"
  }
 },
 "nbformat": 4,
 "nbformat_minor": 5
}
